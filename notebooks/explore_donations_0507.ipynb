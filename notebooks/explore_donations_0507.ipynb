{
 "cells": [
  {
   "cell_type": "markdown",
   "metadata": {},
   "source": [
    "# Exploration of Donations data"
   ]
  },
  {
   "cell_type": "code",
   "execution_count": 1,
   "metadata": {
    "collapsed": true
   },
   "outputs": [],
   "source": [
    "suppressMessages(library(tidyverse))\n",
    "\n",
    "my_db <- src_postgres(\"donorschoose\")\n",
    "donations_tbl <- tbl(my_db, \"donations\")\n",
    "projects_tbl <- tbl(my_db, \"projects\")\n",
    " "
   ]
  },
  {
   "cell_type": "code",
   "execution_count": 2,
   "metadata": {
    "collapsed": false
   },
   "outputs": [
    {
     "name": "stdout",
     "output_type": "stream",
     "text": [
      "Source:   query [?? x 44]\n",
      "Database: postgres 9.6.3 [mcbowers@/tmp:5432/donorschoose]\n",
      "\n",
      "# A tibble: ?? x 44\n",
      "                       `_projectid`                `_teacher_acctid`\n",
      "                              <chr>                            <chr>\n",
      " 1 7342bd01a2a7725ce033a179d22e382d 5c43ef5eac0f5857c266baa1ccfa3d3f\n",
      " 2 ed87d61cef7fda668ae70be7e0c6cebf 1f4493b3d3fe4a611f3f4d21a249376a\n",
      " 3 b56b502d25666e29550d107bf7e17910 57426949b47700ccf62098e1e9b0220c\n",
      " 4 016f03312995d5c89d6b348be4682166 9c0aa56b63b743454d6da9effcf122fc\n",
      " 5 cf6275558534ca1b276b0d8d5130dd9a 1d4d8a42730dbb66af1ebb6ab37456b7\n",
      " 6 0b8a4f8eb1822ab6dd5cd9ffb918ece3 e5d28482308e2007992ae8b358b31bce\n",
      " 7 d25a7dd645bdfb4d702f177cef5e0d8e 0c2d4535f03991165dc72092840d672b\n",
      " 8 0b9607c9d3deb8b493653ed4f998fc38 454840ad7f58f2486203f73ee78ea2d5\n",
      " 9 e24d8bb3d268a7c837077fa07c153063 0c2d4535f03991165dc72092840d672b\n",
      "10 0d97d7543a766a07b3acf2c732844e85 d41b22314bd46c30150e50c4c78bc128\n",
      "# ... with more rows, and 42 more variables: `_schoolid` <chr>,\n",
      "#   school_ncesid <chr>, school_latitude <dbl>, school_longitude <dbl>,\n",
      "#   school_city <chr>, school_state <chr>, school_zip <int>,\n",
      "#   school_metro <chr>, school_district <chr>, school_county <chr>,\n",
      "#   school_charter <chr>, school_magnet <chr>, school_year_round <chr>,\n",
      "#   school_nlns <chr>, school_kipp <chr>, school_charter_ready_promise <chr>,\n",
      "#   teacher_prefix <chr>, teacher_teach_for_america <chr>,\n",
      "#   teacher_ny_teaching_fellow <chr>, primary_focus_subject <chr>,\n",
      "#   primary_focus_area <chr>, secondary_focus_subject <chr>,\n",
      "#   secondary_focus_area <chr>, resource_type <chr>, poverty_level <chr>,\n",
      "#   grade_level <chr>, vendor_shipping_charges <dbl>, sales_tax <dbl>,\n",
      "#   payment_processing_charges <dbl>, fulfillment_labor_materials <dbl>,\n",
      "#   total_price_excluding_optional_support <dbl>,\n",
      "#   total_price_including_optional_support <dbl>, students_reached <int>,\n",
      "#   total_donations <dbl>, num_donors <int>,\n",
      "#   eligible_double_your_impact_match <chr>, eligible_almost_home_match <chr>,\n",
      "#   funding_status <chr>, date_posted <dttm>, date_completed <dttm>,\n",
      "#   date_thank_you_packet_mailed <dttm>, date_expiration <dttm>\n"
     ]
    }
   ],
   "source": [
    "print(projects_tbl)"
   ]
  },
  {
   "cell_type": "code",
   "execution_count": 3,
   "metadata": {
    "collapsed": false,
    "scrolled": true
   },
   "outputs": [
    {
     "name": "stdout",
     "output_type": "stream",
     "text": [
      "Source:   query [?? x 23]\n",
      "Database: postgres 9.6.3 [mcbowers@/tmp:5432/donorschoose]\n",
      "\n",
      "# A tibble: ?? x 23\n",
      "                      `_donationid`                     `_projectid`\n",
      "                              <chr>                            <chr>\n",
      " 1 0000023f507999464aa2b78875b7e5d6 69bf3a609bb4673818e0eebd004ea504\n",
      " 2 000009891526c0ade7180f8423792063 26f02742185eb1f73f3bc5be4655fae2\n",
      " 3 00000ce845c00cbf0686c992fc369df4 7be7184572a67468a2ef4402e7de6c99\n",
      " 4 00000f7264c27ba6fea0c837ed6aa0aa d02682271afef978f1dd161513672759\n",
      " 5 0000174d1d38072889d47e51b587a10c fbef21e4fdf303eebe6c48b99ef9de8f\n",
      " 6 00001816d766bb450f138ce3721f8f78 1f8c20720d923b3752b724faa9246d26\n",
      " 7 000019ac42007a37b3331cdec5ebf219 aa40fcc3d87df0d633482fe29dde015d\n",
      " 8 00001c011090f64fd5c8119eb07060a0 a603a9227c086925d992197948bc3061\n",
      " 9 0000219e4b37d2504fb6b8c28e24a2d4 b4afbc05ce9ff8420c176810bd59db79\n",
      "10 0000262705107d67ab0cdbd7f9363512 dc741dad210eed58fc0b31aedc08ad78\n",
      "# ... with more rows, and 21 more variables: `_donor_acctid` <chr>,\n",
      "#   `_cartid` <chr>, donor_city <chr>, donor_state <chr>, donor_zip <chr>,\n",
      "#   is_teacher_acct <chr>, donation_timestamp <dttm>,\n",
      "#   donation_to_project <dbl>, donation_optional_support <dbl>,\n",
      "#   donation_total <dbl>, donation_included_optional_support <chr>,\n",
      "#   payment_method <chr>, payment_included_acct_credit <chr>,\n",
      "#   payment_included_campaign_gift_card <chr>,\n",
      "#   payment_included_web_purchased_gift_card <chr>,\n",
      "#   payment_was_promo_matched <chr>, is_teacher_referred <chr>,\n",
      "#   giving_page_id <chr>, giving_page_type <chr>, for_honoree <chr>,\n",
      "#   thank_you_packet_mailed <chr>\n"
     ]
    }
   ],
   "source": [
    "print(donations_tbl)"
   ]
  },
  {
   "cell_type": "code",
   "execution_count": 4,
   "metadata": {
    "collapsed": false
   },
   "outputs": [
    {
     "data": {
      "text/plain": [
       "Source:   query [?? x 1]\n",
       "Database: postgres 9.6.3 [mcbowers@/tmp:5432/donorschoose]\n",
       "\n",
       "# A tibble: ?? x 1\n",
       "        n\n",
       "    <dbl>\n",
       "1 6211956"
      ]
     },
     "metadata": {},
     "output_type": "display_data"
    }
   ],
   "source": [
    "donations_tbl  %>%  count()"
   ]
  },
  {
   "cell_type": "markdown",
   "metadata": {},
   "source": [
    "## Distribution of teacher projects posted"
   ]
  },
  {
   "cell_type": "code",
   "execution_count": 6,
   "metadata": {
    "collapsed": false
   },
   "outputs": [],
   "source": [
    "num_posts <- projects_tbl  %>% \n",
    "  filter(date_posted > \"2015-01-01\")  %>% \n",
    "  filter(date_posted < \"2015-02-01\")  %>% \n",
    "  group_by(`_teacher_acctid`)  %>% \n",
    "  count()  %>% \n",
    "#  select(`_teacher_acctid`)  %>% \n",
    "  arrange(desc(n))  %>% \n",
    "  collect()"
   ]
  },
  {
   "cell_type": "code",
   "execution_count": 10,
   "metadata": {
    "collapsed": false
   },
   "outputs": [
    {
     "name": "stdout",
     "output_type": "stream",
     "text": [
      "  0%   1%   2%   3%   4%   5%   6%   7%   8%   9%  10%  11%  12%  13%  14%  15% \n",
      "   1    1    1    1    1    1    1    1    1    1    1    1    1    1    1    1 \n",
      " 16%  17%  18%  19%  20%  21%  22%  23%  24%  25%  26%  27%  28%  29%  30%  31% \n",
      "   1    1    1    1    1    1    1    1    1    1    1    1    1    1    1    1 \n",
      " 32%  33%  34%  35%  36%  37%  38%  39%  40%  41%  42%  43%  44%  45%  46%  47% \n",
      "   1    1    1    1    1    1    1    1    1    1    1    1    1    1    1    1 \n",
      " 48%  49%  50%  51%  52%  53%  54%  55%  56%  57%  58%  59%  60%  61%  62%  63% \n",
      "   1    1    1    1    1    1    1    1    1    1    1    1    1    1    1    1 \n",
      " 64%  65%  66%  67%  68%  69%  70%  71%  72%  73%  74%  75%  76%  77%  78%  79% \n",
      "   1    1    1    1    1    1    1    1    1    1    1    1    1    1    1    1 \n",
      " 80%  81%  82%  83%  84%  85%  86%  87%  88%  89%  90%  91%  92%  93%  94%  95% \n",
      "   1    1    1    1    1    1    1    2    2    2    2    2    2    2    2    2 \n",
      " 96%  97%  98%  99% 100% \n",
      "   2    3    3    4   15 \n"
     ]
    }
   ],
   "source": [
    "qq <- quantile(num_posts$n, probs = seq(0, 1, by = 0.01))\n",
    "print(qq)"
   ]
  }
 ],
 "metadata": {
  "kernelspec": {
   "display_name": "R",
   "language": "R",
   "name": "ir"
  },
  "language_info": {
   "codemirror_mode": "r",
   "file_extension": ".r",
   "mimetype": "text/x-r-source",
   "name": "R",
   "pygments_lexer": "r",
   "version": "3.3.2"
  }
 },
 "nbformat": 4,
 "nbformat_minor": 2
}
